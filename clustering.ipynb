{
 "cells": [
  {
   "cell_type": "code",
   "execution_count": null,
   "id": "935f2597-0884-4a6c-9531-0e682a4cf2ff",
   "metadata": {},
   "outputs": [],
   "source": [
    "import numpy as np\n",
    "import pandas as pd\n",
    "from sklearn.cluster import AgglomerativeClustering\n",
    "from sklearn.metrics import silhouette_score, adjusted_rand_score\n",
    "from hyperopt import hp, tpe, fmin, Trials, STATUS_OK\n",
    "from sklearn.preprocessing import LabelEncoder\n",
    "from sklearn.metrics import mutual_info_score\n",
    "import matplotlib.pyplot as plt\n",
    "import scipy\n",
    "import hyperopt"
   ]
  },
  {
   "cell_type": "code",
   "execution_count": null,
   "id": "71357bb7-40be-49e6-8f1f-038ac8bb5161",
   "metadata": {},
   "outputs": [],
   "source": [
    "#Supress warnings\n",
    "pd.options.mode.chained_assignment = None"
   ]
  },
  {
   "cell_type": "code",
   "execution_count": null,
   "id": "44773343-5f8f-4079-8765-74a78af9ecba",
   "metadata": {},
   "outputs": [],
   "source": [
    "def variation_of_information(labels_true, labels_pred):\n",
    "   labels_true = np.asarray(labels_true, dtype=np.int32)\n",
    "   labels_pred = np.asarray(labels_pred, dtype=np.int32)\n",
    "   contingency = np.histogram2d(labels_true, labels_pred, bins=(np.max(labels_true) + 1, np.max(labels_pred) + 1))[0]\n",
    "   H_true = -np.sum(contingency.sum(axis=1) / len(labels_true) * np.log(contingency.sum(axis=1) / len(labels_true)))\n",
    "   H_pred = -np.sum(contingency.sum(axis=0) / len(labels_pred) * np.log(contingency.sum(axis=0) / len(labels_pred)))\n",
    "   I = mutual_info_score(labels_true, labels_pred)\n",
    "   return H_true + H_pred - 2 * I"
   ]
  },
  {
   "cell_type": "code",
   "execution_count": null,
   "id": "91185165-bf80-42be-a0bd-d4c8829ab963",
   "metadata": {},
   "outputs": [],
   "source": [
    "def optimize_clustering(params, data, true_labels, manual_n_clusters=None):\n",
    "\n",
    "    \"\"\"\n",
    "    params: the clustering parameters inputted via the bayesian_optimization function.\n",
    "    data: the tsne dataframe\n",
    "    true_labels: a pandas series of the Y column\n",
    "    manual_n_clusters: To manually assign the number of clusters and overrule the optimization.\n",
    "    \n",
    "    Receives the suggested parameters for clustering algorithm, evaluates the performance and returns a loss score. \n",
    "    \"\"\"\n",
    "   \n",
    "    linkage = params['linkage'] \n",
    "    affinity = 'euclidean' if linkage == 'ward' else params['affinity'] \n",
    "    n_clusters = manual_n_clusters if manual_n_clusters else int(params['n_clusters'])\n",
    "    \n",
    "    print(f'Testing hyperparameter combination: [Linkage: {linkage}, Affinity: {affinity}, n_clusters: {n_clusters}]')\n",
    "    \n",
    "    clusterer = AgglomerativeClustering(n_clusters=n_clusters, metric=affinity, linkage=linkage)\n",
    "\n",
    "    cluster_labels = clusterer.fit_predict(data)\n",
    "    \n",
    "    if len(np.unique(cluster_labels)) > 1:\n",
    "        silhouette_avg = silhouette_score(data, cluster_labels)\n",
    "        ari = adjusted_rand_score(true_labels, cluster_labels)\n",
    "        score = 0.5 * silhouette_avg + 0.5 * ari\n",
    "    \n",
    "    else:\n",
    "       score = -1\n",
    "    \n",
    "    \n",
    "    return {'loss': -score, 'status': STATUS_OK}"
   ]
  },
  {
   "cell_type": "code",
   "execution_count": null,
   "id": "d848154c-afd7-4b75-90e7-cc605debbc9d",
   "metadata": {},
   "outputs": [],
   "source": [
    "def bayesian_optimization(data, true_labels, manual_n_clusters=None, random_number=42):\n",
    "    \n",
    "    \"\"\"\n",
    "    data: the tsne dataframe from the following cluster function input\n",
    "    true_labels: a pandas series of the Y column from the following cluster function input\n",
    "    \"\"\"\n",
    "    \n",
    "    space = {\n",
    "           'n_clusters': hp.quniform('n_clusters', 2, 20, 1),\n",
    "           'affinity': hp.choice('affinity', ['euclidean', 'l1', 'l2', 'manhattan', 'cosine']),\n",
    "           'linkage': hp.choice('linkage', ['ward', 'complete', 'average', 'single'])\n",
    "       }\n",
    "\n",
    "    trials = Trials()\n",
    "\n",
    "    rng = np.random.default_rng(random_number)\n",
    "\n",
    "    best = fmin(fn=lambda params: optimize_clustering(params, data, true_labels, manual_n_clusters),\n",
    "               space=space,\n",
    "               algo=tpe.suggest,\n",
    "               max_evals=200,\n",
    "               trials=trials,\n",
    "               rstate=rng)\n",
    "\n",
    "    \n",
    "    best_params = { \n",
    "        'n_clusters': manual_n_clusters if manual_n_clusters else int(best['n_clusters']), \n",
    "        'linkage': ['ward', 'complete', 'average', 'single'][best['linkage']],\n",
    "        'affinity': 'euclidean' if ['ward', 'complete', 'average', 'single'][best['linkage']] == 'ward' \n",
    "                    else ['euclidean', 'l1', 'l2', 'manhattan', 'cosine'][best['affinity']]\n",
    "    }\n",
    "\n",
    "\n",
    "    return best_params"
   ]
  },
  {
   "cell_type": "code",
   "execution_count": null,
   "id": "dd29e1eb-b638-42a2-be2f-4b08b4591c11",
   "metadata": {},
   "outputs": [],
   "source": [
    "def cluster_original(tsne_df, y_param,  manual_param=None, random_number=42):\n",
    "    \"\"\"\n",
    "    tsne_df: a pandas dataframe containing only the two columns of tsne components\n",
    "    y_param: a pandas dataseries (one column) containg the ground truth labels ['environment'] or ['tumtype']\n",
    "    manual_param: if all the three parameters are inputted manually: {'n_clusters':int, 'linkage':str, 'affinity':str} #To not repeat the optimization\n",
    "    random_number: random state for Bayesian-optimization\n",
    "    \"\"\"\n",
    "    \n",
    "    \n",
    "    if manual_param == None:\n",
    "        opt_params = bayesian_optimization(data=tsne_df, true_labels=y_param, random_number=random_number)\n",
    "        print(f\"Optimized Agglomerative clustering parameters: \", opt_params)\n",
    "    else:\n",
    "        opt_params = manual_param\n",
    "        print(f\"Manual Agglomerative clustering parameters: \", opt_params)\n",
    "        \n",
    "\n",
    "    clusterer = AgglomerativeClustering(n_clusters=opt_params['n_clusters'], metric=opt_params['affinity'], linkage=opt_params['linkage'])\n",
    "    \n",
    "\n",
    "    cluster_labels = clusterer.fit_predict(tsne_df)\n",
    "    cluster_labels = [c+1 for c in cluster_labels] # to not start with cluster 0\n",
    "    tsne_df['cluster'] = cluster_labels\n",
    "    tsne_df[y_param.name] = y_param\n",
    "    \n",
    "\n",
    "    le = LabelEncoder()\n",
    "    encoded_y_param = le.fit_transform(y_param)\n",
    "    \n",
    "\n",
    "    ari = adjusted_rand_score(encoded_y_param, cluster_labels)\n",
    "    sil = silhouette_score(tsne_df[[tsne_df.columns[0], tsne_df.columns[1]]] , cluster_labels)\n",
    "    contingency_table = pd.crosstab(pd.Series(y_param, name='Ground Truth'), pd.Series(cluster_labels, name='Cluster'))\n",
    "    contingency_table_percentage = contingency_table.div(contingency_table.sum(axis=1), axis=0) * 100\n",
    "    contingency_table_inverse_percentage = contingency_table.div(contingency_table.sum(axis=0), axis=1) * 100\n",
    "\n",
    "\n",
    "    return {'Dataframe': tsne_df,\n",
    "            'ClusteringParams': opt_params,\n",
    "            'ARI': ari, \n",
    "            'Silhouette': sil, \n",
    "            'ContingTable': contingency_table, \n",
    "            'ContingTablePerc': contingency_table_percentage, \n",
    "            'ContingTableInvPerc': contingency_table_inverse_percentage, \n",
    "           }"
   ]
  },
  {
   "cell_type": "markdown",
   "id": "af64196e-ff94-46c8-861f-4875f81bc5f6",
   "metadata": {},
   "source": [
    "##################################################################################################################################"
   ]
  },
  {
   "cell_type": "markdown",
   "id": "69e2f364-9f5f-497a-aff4-f4da8199a11f",
   "metadata": {},
   "source": [
    "### Original Clustering"
   ]
  },
  {
   "cell_type": "markdown",
   "id": "a4ed143b-6a15-47c1-9710-a9ef6f6a5e5f",
   "metadata": {},
   "source": [
    "Discovery - all features"
   ]
  },
  {
   "cell_type": "markdown",
   "id": "c0144c16-616d-4d64-8987-d159eb2dd612",
   "metadata": {},
   "source": [
    "All lesions:"
   ]
  },
  {
   "cell_type": "code",
   "execution_count": null,
   "id": "aba2a4a8-ff38-4648-a0b8-b54f76f1c6dd",
   "metadata": {},
   "outputs": [],
   "source": [
    "tsne_discovery_allfeat_all = pd.read_csv('LOCAL PATH')\n",
    "tsne_discovery_allfeat_all"
   ]
  },
  {
   "cell_type": "code",
   "execution_count": null,
   "id": "8d482c27-cb34-4e4f-8690-5fc8f990f399",
   "metadata": {},
   "outputs": [],
   "source": [
    "tsne_df = tsne_discovery_allfeat_all[['tsne 1', 'tsne 2']]\n",
    "y_param = tsne_discovery_allfeat_all['environment']\n",
    "\n",
    "results_discovery_allfeat_all_env = cluster_original(tsne_df=tsne_df, y_param=y_param)"
   ]
  },
  {
   "cell_type": "code",
   "execution_count": null,
   "id": "a1d331d0-215e-47db-a6e9-bf58a4256a5b",
   "metadata": {},
   "outputs": [],
   "source": [
    "tsne_df = tsne_discovery_allfeat_all[['tsne 1', 'tsne 2']]\n",
    "y_param = tsne_discovery_allfeat_all['tumtype']\n",
    "\n",
    "results_discovery_allfeat_all_tumtype = cluster_original(tsne_df=tsne_df, y_param=y_param)"
   ]
  },
  {
   "cell_type": "markdown",
   "id": "d0819667-a346-4c71-b5dd-5776661c02ec",
   "metadata": {},
   "source": [
    "Metastatic lesions:"
   ]
  },
  {
   "cell_type": "code",
   "execution_count": null,
   "id": "1d90d05f-4f5e-46e2-a2f6-6ea188996504",
   "metadata": {},
   "outputs": [],
   "source": [
    "tsne_discovery_allfeat_met = tsne_discovery_allfeat_all[tsne_discovery_allfeat_all['prim_met_status'].isin(['Metastatic', 'Recurrence'])]\n",
    "tsne_discovery_allfeat_met"
   ]
  },
  {
   "cell_type": "code",
   "execution_count": null,
   "id": "700c20b9-4fa1-4e2d-9288-72514e290206",
   "metadata": {},
   "outputs": [],
   "source": [
    "tsne_df = tsne_discovery_allfeat_met[['tsne 1', 'tsne 2']].reset_index(drop=True)\n",
    "y_param = tsne_discovery_allfeat_met['environment'].reset_index(drop=True)\n",
    "\n",
    "results_discovery_allfeat_met_env = cluster_original(tsne_df=tsne_df, y_param=y_param)"
   ]
  },
  {
   "cell_type": "code",
   "execution_count": null,
   "id": "8f081d0a-7e97-4a5a-82a3-aedae60ad2a8",
   "metadata": {},
   "outputs": [],
   "source": [
    "tsne_df = tsne_discovery_allfeat_met[['tsne 1', 'tsne 2']].reset_index(drop=True)\n",
    "y_param = tsne_discovery_allfeat_met['tumtype'].reset_index(drop=True)\n",
    "\n",
    "results_discovery_allfeat_met_tumtype = cluster_original(tsne_df=tsne_df, y_param=y_param)"
   ]
  },
  {
   "cell_type": "markdown",
   "id": "c3bc1829-21f2-4159-99c8-8bed863e614b",
   "metadata": {},
   "source": [
    "Solid metastatic lesions:"
   ]
  },
  {
   "cell_type": "code",
   "execution_count": null,
   "id": "3009bc09-eae3-4ae6-a9d8-69fe74960351",
   "metadata": {},
   "outputs": [],
   "source": [
    "tsne_discovery_allfeat_solidmet = tsne_discovery_allfeat_met[tsne_discovery_allfeat_met['lesion_type'] != 'Lymph-Node']\n",
    "tsne_discovery_allfeat_solidmet"
   ]
  },
  {
   "cell_type": "code",
   "execution_count": null,
   "id": "bd5977ee-dd25-4291-83a9-a1dcbae0565f",
   "metadata": {},
   "outputs": [],
   "source": [
    "tsne_df = tsne_discovery_allfeat_solidmet[['tsne 1', 'tsne 2']].reset_index(drop=True)\n",
    "y_param = tsne_discovery_allfeat_solidmet['environment'].reset_index(drop=True)\n",
    "\n",
    "results_discovery_allfeat_solidmet_env = cluster_original(tsne_df=tsne_df, y_param=y_param)"
   ]
  },
  {
   "cell_type": "code",
   "execution_count": null,
   "id": "574990ea-2a42-43a2-8cd8-6681c5067964",
   "metadata": {},
   "outputs": [],
   "source": [
    "tsne_df = tsne_discovery_allfeat_solidmet[['tsne 1', 'tsne 2']].reset_index(drop=True)\n",
    "y_param = tsne_discovery_allfeat_solidmet['tumtype'].reset_index(drop=True)\n",
    "\n",
    "results_discovery_allfeat_solidmet_tumtype = cluster_original(tsne_df=tsne_df, y_param=y_param)"
   ]
  },
  {
   "cell_type": "markdown",
   "id": "399afc74-6728-4d67-9996-7687c0317d94",
   "metadata": {},
   "source": [
    "Repeat the steps above for eroded, radiomics subsets, as well as validation datasets!"
   ]
  }
 ],
 "metadata": {
  "kernelspec": {
   "display_name": "Python [conda env:base] *",
   "language": "python",
   "name": "conda-base-py"
  },
  "language_info": {
   "codemirror_mode": {
    "name": "ipython",
    "version": 3
   },
   "file_extension": ".py",
   "mimetype": "text/x-python",
   "name": "python",
   "nbconvert_exporter": "python",
   "pygments_lexer": "ipython3",
   "version": "3.12.7"
  }
 },
 "nbformat": 4,
 "nbformat_minor": 5
}
