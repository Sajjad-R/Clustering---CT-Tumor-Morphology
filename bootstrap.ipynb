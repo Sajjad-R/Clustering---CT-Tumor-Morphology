{
 "cells": [
  {
   "cell_type": "code",
   "execution_count": null,
   "id": "935f2597-0884-4a6c-9531-0e682a4cf2ff",
   "metadata": {},
   "outputs": [],
   "source": [
    "import numpy as np\n",
    "import pandas as pd\n",
    "from sklearn.cluster import AgglomerativeClustering\n",
    "from sklearn.metrics import silhouette_score, adjusted_rand_score\n",
    "from hyperopt import hp, tpe, fmin, Trials, STATUS_OK\n",
    "from sklearn.preprocessing import LabelEncoder\n",
    "from sklearn.metrics import mutual_info_score\n",
    "from scipy.spatial import ConvexHull\n",
    "import scipy\n",
    "import hyperopt"
   ]
  },
  {
   "cell_type": "code",
   "execution_count": null,
   "id": "71357bb7-40be-49e6-8f1f-038ac8bb5161",
   "metadata": {},
   "outputs": [],
   "source": [
    "#Supress warnings\n",
    "pd.options.mode.chained_assignment = None"
   ]
  },
  {
   "cell_type": "code",
   "execution_count": null,
   "id": "91185165-bf80-42be-a0bd-d4c8829ab963",
   "metadata": {},
   "outputs": [],
   "source": [
    "def optimize_clustering(params, data, true_labels, manual_n_clusters=None):\n",
    "\n",
    "    \"\"\"\n",
    "    params: the clustering parameters inputted via the bayesian_optimization function.\n",
    "    data: the tsne dataframe\n",
    "    true_labels: a pandas series of the Y column\n",
    "    manual_n_clusters: To manually assign the number of clusters and overrule the optimization.\n",
    "    \n",
    "    Receives the suggested parameters for clustering algorithm, evaluates the performance and returns a loss score. \n",
    "    \"\"\"\n",
    "   \n",
    "    linkage = params['linkage'] \n",
    "    affinity = 'euclidean' if linkage == 'ward' else params['affinity'] \n",
    "    n_clusters = manual_n_clusters if manual_n_clusters else int(params['n_clusters'])\n",
    "    \n",
    "    print(f'Testing hyperparameter combination: [Linkage: {linkage}, Affinity: {affinity}, n_clusters: {n_clusters}]')\n",
    "    \n",
    "    clusterer = AgglomerativeClustering(n_clusters=n_clusters, metric=affinity, linkage=linkage)\n",
    "\n",
    "    cluster_labels = clusterer.fit_predict(data)\n",
    "    \n",
    "    if len(np.unique(cluster_labels)) > 1:\n",
    "        silhouette_avg = silhouette_score(data, cluster_labels)\n",
    "        ari = adjusted_rand_score(true_labels, cluster_labels)\n",
    "        score = 0.5 * silhouette_avg + 0.5 * ari\n",
    "    \n",
    "    else:\n",
    "       score = -1\n",
    "    \n",
    "    \n",
    "    return {'loss': -score, 'status': STATUS_OK}"
   ]
  },
  {
   "cell_type": "code",
   "execution_count": null,
   "id": "d848154c-afd7-4b75-90e7-cc605debbc9d",
   "metadata": {},
   "outputs": [],
   "source": [
    "def bayesian_optimization(data, true_labels, manual_n_clusters=None, random_number=42):\n",
    "    \n",
    "    \"\"\"\n",
    "    data: the tsne dataframe from the following cluster function input\n",
    "    true_labels: a pandas series of the Y column from the following cluster function input\n",
    "    \"\"\"\n",
    "    \n",
    "    space = {\n",
    "           'n_clusters': hp.quniform('n_clusters', 2, 20, 1),\n",
    "           'affinity': hp.choice('affinity', ['euclidean', 'l1', 'l2', 'manhattan', 'cosine']),\n",
    "           'linkage': hp.choice('linkage', ['ward', 'complete', 'average', 'single'])\n",
    "       }\n",
    "\n",
    "    trials = Trials()\n",
    "\n",
    "    rng = np.random.default_rng(random_number)\n",
    "\n",
    "    best = fmin(fn=lambda params: optimize_clustering(params, data, true_labels, manual_n_clusters),\n",
    "               space=space,\n",
    "               algo=tpe.suggest,\n",
    "               max_evals=200,\n",
    "               trials=trials,\n",
    "               rstate=rng)\n",
    "\n",
    "    \n",
    "    best_params = { \n",
    "        'n_clusters': manual_n_clusters if manual_n_clusters else int(best['n_clusters']), \n",
    "        'linkage': ['ward', 'complete', 'average', 'single'][best['linkage']],\n",
    "        'affinity': 'euclidean' if ['ward', 'complete', 'average', 'single'][best['linkage']] == 'ward' \n",
    "                    else ['euclidean', 'l1', 'l2', 'manhattan', 'cosine'][best['affinity']]\n",
    "    }\n",
    "\n",
    "\n",
    "    return best_params"
   ]
  },
  {
   "cell_type": "code",
   "execution_count": null,
   "id": "3412a198-c72b-4b10-ac2e-c55224224af8",
   "metadata": {},
   "outputs": [],
   "source": [
    "def cluster_bootstrap(tsne_df, y_param,  manual_param=None, random_number=42):\n",
    "    \"\"\"\n",
    "    tsne_df: a pandas dataframe containing only the two columns of tsne components\n",
    "    y_param: a pandas dataseries (one column) containg the ground truth labels ['environment'] or ['tumtype']\n",
    "    manual_param: if all the three parameters are inputted manually: {'n_clusters':int, 'linkage':str, 'affinity':str} #To not repeat the optimization\n",
    "    random_number: random state for Bayesian-optimization\n",
    "    \"\"\"\n",
    "    \n",
    "    if manual_param == None:\n",
    "        opt_params = bayesian_optimization(data=tsne_df, true_labels=y_param, random_number=random_number)\n",
    "        print(f\"Optimized Agglomerative clustering parameters: \", opt_params)\n",
    "    else:\n",
    "        opt_params = manual_param\n",
    "        print(f\"Manual Agglomerative clustering parameters: \", opt_params)\n",
    "        \n",
    "\n",
    "    clusterer = AgglomerativeClustering(n_clusters=opt_params['n_clusters'], metric=opt_params['affinity'], linkage=opt_params['linkage'])\n",
    "    \n",
    "\n",
    "    cluster_labels = clusterer.fit_predict(tsne_df)\n",
    "    cluster_labels = [c+1 for c in cluster_labels] # to not start with cluster 0\n",
    "    tsne_df['cluster'] = cluster_labels\n",
    "    \n",
    "\n",
    "    le = LabelEncoder()\n",
    "    encoded_y_param = le.fit_transform(y_param)\n",
    "    \n",
    "\n",
    "    ari = adjusted_rand_score(encoded_y_param, cluster_labels)\n",
    "    sil = silhouette_score(tsne_df[[tsne_df.columns[0], tsne_df.columns[1]]] , cluster_labels)\n",
    "    \n",
    "\n",
    "    return ari, sil, opt_params"
   ]
  },
  {
   "cell_type": "code",
   "execution_count": null,
   "id": "89e22a23-f49e-4386-9873-f5401b585c4c",
   "metadata": {},
   "outputs": [],
   "source": [
    "def bootstrap(df, Y_param_col_nam:str, manual_param=None, n_iterations=100, random_number=42):\n",
    "    \"\"\"\n",
    "    df: a pandas df with tsne component columns named as ['principal component 1', 'principal component 2'] and Y column\n",
    "    Y_param_col_nam: name of the column containing the ground truth (tumtype or environment)\n",
    "    \"\"\"\n",
    "    \n",
    "    bootstrap_results = {}\n",
    "    for iter in range(n_iterations):\n",
    "        print(\"###########################################\")\n",
    "        print(f'Processing Iteration Number {iter + 1}/{n_iterations}')\n",
    "        sample = df.sample(n=len(df), replace=True, random_state=iter)\n",
    "        print(f\"deduplicated number of rows: {sample.drop_duplicates().shape[0]}\")\n",
    "        ari, sil, opt_params = cluster_bootstrap(tsne_df=sample[['principal component 1', 'principal component 2']], y_param=sample[Y_param_col_nam], manual_param=manual_param, random_number=random_number)\n",
    "        print(f\"RESULTS: ARI = {ari}, Silhouette = {sil}\")\n",
    "        bootstrap_results[f'{iter + 1}'] = {'ARI': ari, 'Silhouette': sil, 'ClusteringParams': opt_params}\n",
    "        bootstrap_df = pd.DataFrame.from_dict(bootstrap_results, orient='index')\n",
    "        bootstrap_df.reset_index(inplace=True)\n",
    "        bootstrap_df.rename(columns={'index': 'Iteration'}, inplace=True)\n",
    "    return bootstrap_df"
   ]
  },
  {
   "cell_type": "markdown",
   "id": "51ae9200-e101-4aa6-8881-7eaf675e28b6",
   "metadata": {},
   "source": [
    "### Bootstrap Clustering"
   ]
  },
  {
   "cell_type": "markdown",
   "id": "16de6bee-9fd5-4317-87e2-742a0c7246e2",
   "metadata": {},
   "source": [
    "BS Discovery - all lesions - all features"
   ]
  },
  {
   "cell_type": "code",
   "execution_count": null,
   "id": "f5977db4-8cdb-4c6d-aeb3-ce1e01fa453e",
   "metadata": {},
   "outputs": [],
   "source": [
    "tsne_discovery_allfeat = pd.read_csv('LOCAL PATH')\n",
    "tsne_discovery_allfeat"
   ]
  },
  {
   "cell_type": "code",
   "execution_count": null,
   "id": "2a2b2472-52dc-444e-ac9a-158aa9b4adf2",
   "metadata": {
    "scrolled": true
   },
   "outputs": [],
   "source": [
    "y_name = 'environment'\n",
    "bootstrap_discovery_allfeat_all_env = bootstrap(df=tsne_discovery_allfeat, Y_param_col_nam=y_name)\n",
    "bootstrap_discovery_allfeat_all_env"
   ]
  },
  {
   "cell_type": "code",
   "execution_count": null,
   "id": "e7a6583d-9da6-4855-9f71-629cc7da9390",
   "metadata": {},
   "outputs": [],
   "source": [
    "bootstrap_discovery_allfeat_all_env.to_excel('LOCAL PATH')"
   ]
  },
  {
   "cell_type": "code",
   "execution_count": null,
   "id": "af894c44-fe71-44f7-8145-37dd827f8631",
   "metadata": {
    "scrolled": true
   },
   "outputs": [],
   "source": [
    "y_name = 'tumtype'\n",
    "bootstrap_discovery_allfeat_all_tumtype = bootstrap(df=tsne_discovery_allfeat, Y_param_col_nam=y_name)\n",
    "bootstrap_discovery_allfeat_all_tumtype"
   ]
  },
  {
   "cell_type": "code",
   "execution_count": null,
   "id": "532c6da3-c6b2-4ba1-aedb-b0e091b47175",
   "metadata": {},
   "outputs": [],
   "source": [
    "bootstrap_discovery_allfeat_all_tumtype.to_excel('LOCAL PATH')"
   ]
  },
  {
   "cell_type": "markdown",
   "id": "4a62fdca-6b8e-4d39-98d8-c88693483a23",
   "metadata": {},
   "source": [
    "BS Discovery - metastatic lesions - all features"
   ]
  },
  {
   "cell_type": "code",
   "execution_count": null,
   "id": "af2b8d23-1612-44e6-b19c-617af5e3b0aa",
   "metadata": {},
   "outputs": [],
   "source": [
    "tsne_discovery_allfeat_met = tsne_discovery_allfeat[tsne_discovery_allfeat['prim_met_status'].isin(['Metastatic', 'Recurrence'])].reset_index(drop=True)\n",
    "tsne_discovery_allfeat_met"
   ]
  },
  {
   "cell_type": "code",
   "execution_count": null,
   "id": "5dea2d33-c95a-4797-b575-a342efb4a808",
   "metadata": {},
   "outputs": [],
   "source": [
    "y_name = 'environment'\n",
    "bootstrap_discovery_allfeat_met_env = bootstrap(df=tsne_discovery_allfeat_met, Y_param_col_nam=y_name)\n",
    "bootstrap_discovery_allfeat_met_env"
   ]
  },
  {
   "cell_type": "code",
   "execution_count": null,
   "id": "1f3e1079-3267-4d8b-b22e-0efcdf7d061d",
   "metadata": {},
   "outputs": [],
   "source": [
    "bootstrap_discovery_allfeat_met_env.to_excel('LOCAL PATH')"
   ]
  },
  {
   "cell_type": "code",
   "execution_count": null,
   "id": "766f99d6-1db4-4dc2-83c7-db00079e624c",
   "metadata": {},
   "outputs": [],
   "source": [
    "y_name = 'tumtype'\n",
    "bootstrap_discovery_allfeat_met_tumtype = bootstrap(df=tsne_discovery_allfeat_met, Y_param_col_nam=y_name)\n",
    "bootstrap_discovery_allfeat_met_tumtype"
   ]
  },
  {
   "cell_type": "code",
   "execution_count": null,
   "id": "1040124d-6eb7-4430-9fdd-d2e0480cf6e9",
   "metadata": {},
   "outputs": [],
   "source": [
    "bootstrap_discovery_allfeat_met_tumtype.to_excel('LOCAL PATH')"
   ]
  },
  {
   "cell_type": "markdown",
   "id": "fc31284b-9cfd-49d0-9cd9-ff0c159a6bf2",
   "metadata": {},
   "source": [
    "BS Discovery - solid metastatic lesions - all features"
   ]
  },
  {
   "cell_type": "code",
   "execution_count": null,
   "id": "f7101464-7e1d-45c6-b058-4cb83d97c3aa",
   "metadata": {},
   "outputs": [],
   "source": [
    "tsne_discovery_allfeat_solidmet = tsne_discovery_allfeat_met[tsne_discovery_allfeat_met['lesion_type'] != 'Lymph-Node']\n",
    "tsne_discovery_allfeat_solidmet"
   ]
  },
  {
   "cell_type": "code",
   "execution_count": null,
   "id": "b1091afe-7c25-4074-a5d2-1334081ff294",
   "metadata": {
    "scrolled": true
   },
   "outputs": [],
   "source": [
    "y_name = 'environment'\n",
    "bootstrap_discovery_allfeat_solidmet_env = bootstrap(df=tsne_discovery_allfeat_solidmet, Y_param_col_nam=y_name)\n",
    "bootstrap_discovery_allfeat_solidmet_env"
   ]
  },
  {
   "cell_type": "code",
   "execution_count": null,
   "id": "7d39e2d7-452e-4089-aaa7-4a2d57100c3c",
   "metadata": {},
   "outputs": [],
   "source": [
    "bootstrap_discovery_allfeat_solidmet_env.to_excel(r'LOCAL PATH')"
   ]
  },
  {
   "cell_type": "code",
   "execution_count": null,
   "id": "f0310e1a-33e3-4ca6-9b48-99263629ac11",
   "metadata": {},
   "outputs": [],
   "source": [
    "y_name = 'tumtype'\n",
    "bootstrap_discovery_allfeat_solidmet_tumtype = bootstrap(df=tsne_discovery_allfeat_solidmet, Y_param_col_nam=y_name)\n",
    "bootstrap_discovery_allfeat_solidmet_tumtype"
   ]
  },
  {
   "cell_type": "code",
   "execution_count": null,
   "id": "e78b7657-ba5b-4930-8848-7506e35b9fc3",
   "metadata": {},
   "outputs": [],
   "source": [
    "bootstrap_discovery_allfeat_solidmet_tumtype.to_excel(r'LOCAL PATH')"
   ]
  },
  {
   "cell_type": "markdown",
   "id": "9c84bc2f",
   "metadata": {},
   "source": [
    "Repeat the steps above for eroded, radiomics subsets, as well as validation datasets!"
   ]
  }
 ],
 "metadata": {
  "kernelspec": {
   "display_name": "Python [conda env:base] *",
   "language": "python",
   "name": "conda-base-py"
  },
  "language_info": {
   "codemirror_mode": {
    "name": "ipython",
    "version": 3
   },
   "file_extension": ".py",
   "mimetype": "text/x-python",
   "name": "python",
   "nbconvert_exporter": "python",
   "pygments_lexer": "ipython3",
   "version": "3.12.7"
  }
 },
 "nbformat": 4,
 "nbformat_minor": 5
}
