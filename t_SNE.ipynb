{
 "cells": [
  {
   "cell_type": "code",
   "execution_count": 10,
   "id": "acceeda0-777f-4312-ac6f-f41955a6339b",
   "metadata": {},
   "outputs": [],
   "source": [
    "import pandas as pd\n",
    "import math\n",
    "from sklearn.manifold import TSNE\n",
    "import matplotlib.colors as mcolors\n",
    "import matplotlib.pyplot as plt\n",
    "import SegmentationGuideline as SG\n",
    "import matplotlib"
   ]
  },
  {
   "cell_type": "code",
   "execution_count": 1,
   "id": "e520233b-379b-4fd9-b7d5-b95039fd3249",
   "metadata": {},
   "outputs": [],
   "source": [
    "PATH_DISCOVERY_CSV = 'LOCAL PATH'\n",
    "PATH_ERODED_DISCOVERY_CSV = 'LOCAL PATH'\n",
    "PATH_VALIDATION_CSV = 'LOCAL PATH'"
   ]
  },
  {
   "cell_type": "code",
   "execution_count": null,
   "id": "19a349c7-db2f-4bd1-be55-37aa3929c49d",
   "metadata": {},
   "outputs": [],
   "source": [
    "def TSNE_maker(df, sub_analysis=None):\n",
    "\n",
    "    \"\"\"\n",
    "    df param: The dataframe containing a full array of radiomic features.\n",
    "    sub_analysis param: if None, all the features will be used. a list of one or more of ['shape', 'intensity' and 'texture'] can indicate what \n",
    "    categories of features to be used.\n",
    "    Returns a dataframe in which the radiomic feature columns are replaced with two columns of ['tsne 1', 'tsne 2']\n",
    "    \"\"\"\n",
    "    \n",
    "    feature_start = df.columns.get_loc('original_shape_Elongation')\n",
    "    feature_end = df.columns.get_loc('lbp-3D-k_ngtdm_Strength')+1\n",
    "    feat_df = df.iloc[:, feature_start:feature_end]\n",
    "    rest_df = df.drop(columns=df.columns[feature_start:feature_end])\n",
    "\n",
    "    \n",
    "    if sub_analysis != None:\n",
    "        \n",
    "        valid_subanalysis_options = ['shape', 'intensity', 'texture']\n",
    "        \n",
    "        feat_names = df.columns[feature_start:feature_end].tolist()    \n",
    "\n",
    "        included_feat_names = []\n",
    "        for n in sub_analysis:\n",
    "            if n == 'shape':\n",
    "                shape_feat_names = [f for f in feat_names if 'shape' in f]\n",
    "                included_feat_names += shape_feat_names\n",
    "                \n",
    "            elif n == 'intensity':\n",
    "                intensity_feat_names = [f for f in feat_names if 'firstorder' in f]\n",
    "                included_feat_names += intensity_feat_names\n",
    "\n",
    "            elif n == 'texture':\n",
    "                texture_feat_names = [f for f in feat_names if 'firstorder' not in f and 'shape' not in f]\n",
    "                included_feat_names += texture_feat_names\n",
    "                \n",
    "            else:\n",
    "                raise KeyError(f\"Invalid sub_analysis category: '{n}'. Expected one of {valid_subanalysis_options}.\")\n",
    "        \n",
    "        feat_df = df[included_feat_names]\n",
    "\n",
    "\n",
    "    # t-SNE hyperparameter optimization\n",
    "    ideal_perplexity = math.sqrt(feat_df.shape[0])\n",
    "\n",
    "    \n",
    "    # t-SNE dimensionalty reduction\n",
    "    tsne_x_embedding = TSNE(n_components=2, perplexity=ideal_perplexity, n_jobs=-1, max_iter=1000, learning_rate='auto', init='random', random_state=42).fit_transform(feat_df)\n",
    "\n",
    "    \n",
    "    # t-SNE dimensionality-reduced dataframe\n",
    "    tsne_df = pd.DataFrame(data=tsne_x_embedding, columns=['tsne 1', 'tsne 2'])\n",
    "\n",
    "    \n",
    "    # Add the rest of the original data to the outputing dataframe\n",
    "    final_df =  pd.concat([tsne_df.reset_index(drop=True), rest_df.reset_index(drop=True)], axis=1, ignore_index=True)\n",
    "\n",
    "    \n",
    "    # Set the column names\n",
    "    col_nam = list(tsne_df.columns) + list(rest_df.columns)\n",
    "    final_df.columns = col_nam\n",
    "\n",
    "    \n",
    "    return final_df"
   ]
  },
  {
   "cell_type": "code",
   "execution_count": 26,
   "id": "5eb4c9c3-a120-4c9e-bdb2-2dd152dc5c2f",
   "metadata": {},
   "outputs": [],
   "source": [
    "def add_env(seg_name):\n",
    "    \"\"\"\n",
    "    Receives a segment name, returns an environment(location) accordingly\n",
    "    \"\"\"\n",
    "    dictionary = SG.SegmentationDictionary\n",
    "\n",
    "    try:\n",
    "        first_dig = seg_name[0]\n",
    "        second_dig = seg_name[2]\n",
    "        third_dig = seg_name[4:6]\n",
    "\n",
    "        \n",
    "        if second_dig == '2' and third_dig != '08': # bone\n",
    "            loc = 'Bone'\n",
    "\n",
    "        elif second_dig == '1' and third_dig == '01': # brain\n",
    "            loc = 'Brain'\n",
    "\n",
    "        elif (second_dig == '1' and third_dig in {'02', '03', '24', '27'}) or (second_dig == '4' and third_dig == '01'): # thyroid, thymus, parotid-gland, head and neck\n",
    "            loc = 'Head and Neck'\n",
    "\n",
    "        elif second_dig == '1' and third_dig == '04': # breast\n",
    "            loc = 'Breast'\n",
    "\n",
    "        elif (second_dig == '1' and third_dig in {'05', '06'}): # broncopulmonary, pleura\n",
    "            loc = 'Lung'\n",
    "\n",
    "        elif (second_dig == '1' and third_dig in {'07', '13', '28'}) or (second_dig == '2' and third_dig in {'08'}) or (second_dig == '4' and third_dig in {'02'}): # heart, spleen, skin, muscle, mediastinal space\n",
    "            loc = 'Others'\n",
    "\n",
    "        elif (second_dig == '1' and third_dig in {'08', '09', '14', '15'}) or (second_dig == '4' and third_dig in {'03', '04'}): # esophagus, stomach, small_instestine, colon/rectum\n",
    "            loc = 'Gastrointestinal'\n",
    "\n",
    "        elif second_dig == '1' and third_dig in {'10', '11', '12'}: # liver, biliary system, pancreas\n",
    "            loc = 'Hepatobiliary'\n",
    "\n",
    "        elif second_dig == '1' and third_dig in {'16', '25'}: # peritoneum and peritoneal carcinomatosis\n",
    "            loc = 'Peritoneum'\n",
    "      \n",
    "        elif second_dig == '1' and third_dig == '17': # adrenal\n",
    "            loc = 'Adrenal'\n",
    "            \n",
    "        elif second_dig == '1' and third_dig in {'18', '19', '20'}: # kidney, bladder, prostate  \n",
    "            loc = 'Urinary System'\n",
    "\n",
    "        elif second_dig == '1' and third_dig in {'21', '22', '23', '26'}: # ovary, uterus, genitals, cervix\n",
    "            loc = 'Gynecological'\n",
    "\n",
    "        elif second_dig == '3' and third_dig in {'01', '02', '03'}: # head and neck LN, supraclavicular LN\n",
    "            loc = 'Lymph Node'\n",
    "\n",
    "        elif second_dig == '3' and third_dig in {'04', '05', '06', '07', '08', '09', '10', '11', '12', '13', '14'}: # thoracic LNs\n",
    "            loc = 'Lymph Node'\n",
    "\n",
    "        elif second_dig == '3' and third_dig in {'15', '16', '17', '18', '19', '20', '21', '22'}: # abdominopelvic LNs\n",
    "            loc = 'Lymph Node'\n",
    "\n",
    "        elif second_dig == '4' and third_dig == '05': # Subcutaneous fat\n",
    "            loc = 'Subcutaneous Fat'\n",
    "        \n",
    "        return loc\n",
    "            \n",
    "\n",
    "    except KeyError:\n",
    "        print(f'segment name error: {seg_name}')\n",
    "        return None"
   ]
  },
  {
   "cell_type": "markdown",
   "id": "656e6ea8-c6e1-470c-bfad-5e6df741f823",
   "metadata": {},
   "source": [
    "###############################################################################################################################"
   ]
  },
  {
   "cell_type": "markdown",
   "id": "7025c554-f9c2-4db6-ba76-2b9e13389138",
   "metadata": {},
   "source": [
    "## Load the datasets"
   ]
  },
  {
   "cell_type": "code",
   "execution_count": null,
   "id": "e46c6672-1d90-4d9a-bae7-cb2d8d671162",
   "metadata": {},
   "outputs": [],
   "source": [
    "discovery_all = pd.read_csv(PATH_DISCOVERY_CSV)\n",
    "discovery_all"
   ]
  },
  {
   "cell_type": "code",
   "execution_count": null,
   "id": "d2952ead-4232-4903-825f-797881581a93",
   "metadata": {},
   "outputs": [],
   "source": [
    "eroded_all = pd.read_csv(PATH_ERODED_DISCOVERY_CSV)\n",
    "eroded_all"
   ]
  },
  {
   "cell_type": "code",
   "execution_count": null,
   "id": "3604f73d-911b-418d-ad50-96267865d865",
   "metadata": {},
   "outputs": [],
   "source": [
    "validation_all = pd.read_csv(PATH_VALIDATION_CSV)\n",
    "validation_all"
   ]
  },
  {
   "cell_type": "markdown",
   "id": "21a28a44-9f84-45f7-8e97-91aa54e3788f",
   "metadata": {},
   "source": [
    "## Add environment column"
   ]
  },
  {
   "cell_type": "code",
   "execution_count": null,
   "id": "2168b669-b5ec-4783-a98d-2e8edd1eff23",
   "metadata": {},
   "outputs": [],
   "source": [
    "discovery_all['environment'] = discovery_all['Segment Name'].apply(add_env)\n",
    "discovery_all"
   ]
  },
  {
   "cell_type": "code",
   "execution_count": null,
   "id": "c53bef1e-6cab-4e97-8b01-8bd1e5c80289",
   "metadata": {},
   "outputs": [],
   "source": [
    "eroded_all['environment'] = eroded_all['Segment Name'].apply(add_env)\n",
    "eroded_all"
   ]
  },
  {
   "cell_type": "code",
   "execution_count": null,
   "id": "ae533e55-4995-4f57-a16e-3148bd86f12b",
   "metadata": {},
   "outputs": [],
   "source": [
    "validation_all['environment'] = validation_all['Segment Name'].apply(add_env)\n",
    "validation_all"
   ]
  },
  {
   "cell_type": "code",
   "execution_count": null,
   "id": "281df3f1-22bf-4890-9352-7940c399739f",
   "metadata": {},
   "outputs": [],
   "source": [
    "discovery_all['environment'].isnull().sum()"
   ]
  },
  {
   "cell_type": "code",
   "execution_count": null,
   "id": "c39de328-5653-48a8-85f7-e7c6e7b69666",
   "metadata": {},
   "outputs": [],
   "source": [
    "eroded_all['environment'].isnull().sum()"
   ]
  },
  {
   "cell_type": "code",
   "execution_count": null,
   "id": "8fbd5088-1e52-477a-888b-64f538572644",
   "metadata": {},
   "outputs": [],
   "source": [
    "validation_all['environment'].isnull().sum()"
   ]
  },
  {
   "cell_type": "markdown",
   "id": "2c01179f-455f-4904-82c8-ec508837569b",
   "metadata": {},
   "source": [
    "## Convert the datasets to t_SNE dataframes "
   ]
  },
  {
   "cell_type": "code",
   "execution_count": null,
   "id": "841faa6a-4eb2-44e0-a720-3b162f361935",
   "metadata": {},
   "outputs": [],
   "source": [
    "tsne_discovery_all_df = TSNE_maker(df=discovery_all, sub_analysis=None)"
   ]
  },
  {
   "cell_type": "code",
   "execution_count": null,
   "id": "815f3baa-dcf7-400b-a2e7-d07e4efce371",
   "metadata": {},
   "outputs": [],
   "source": [
    "tsne_eroded_all_df = TSNE_maker(df=eroded_all, sub_analysis=None)"
   ]
  },
  {
   "cell_type": "code",
   "execution_count": null,
   "id": "fcd8770a-ca99-4b02-9d94-8fd8f3195cd8",
   "metadata": {},
   "outputs": [],
   "source": [
    "tsne_validation_all_df = TSNE_maker(df=validation_all, sub_analysis=None)"
   ]
  },
  {
   "cell_type": "markdown",
   "id": "b7214c21-c3da-4bec-8a8b-c3653060075e",
   "metadata": {},
   "source": [
    "## Add Sub-analysis"
   ]
  },
  {
   "cell_type": "markdown",
   "id": "cc193517-dd78-4170-915a-5f0502110feb",
   "metadata": {},
   "source": [
    "Discovery:"
   ]
  },
  {
   "cell_type": "code",
   "execution_count": null,
   "id": "fbc4275a-5619-4c11-97b3-d0edf2998cc6",
   "metadata": {},
   "outputs": [],
   "source": [
    "tsne_discovery_shape_df = TSNE_maker(df=discovery_all, sub_analysis=['shape'])"
   ]
  },
  {
   "cell_type": "code",
   "execution_count": null,
   "id": "913a8b4f-2ae3-49d9-9cab-dc1eca34a0e4",
   "metadata": {},
   "outputs": [],
   "source": [
    "tsne_discovery_intensity_df = TSNE_maker(df=discovery_all, sub_analysis=['intensity'])"
   ]
  },
  {
   "cell_type": "code",
   "execution_count": null,
   "id": "d4d1f11b-95b1-473e-ade7-e7b5b2b04cdc",
   "metadata": {},
   "outputs": [],
   "source": [
    "tsne_discovery_texture_df = TSNE_maker(df=discovery_all, sub_analysis=['texture'])"
   ]
  },
  {
   "cell_type": "code",
   "execution_count": null,
   "id": "7f30a357-597d-4ee4-ae62-023a4cf5e369",
   "metadata": {},
   "outputs": [],
   "source": [
    "tsne_discovery_intensitytexture_df = TSNE_maker(df=discovery_all, sub_analysis=['intensity', 'texture'])"
   ]
  },
  {
   "cell_type": "markdown",
   "id": "555c082b-37aa-45bd-85f8-7ff7882f6701",
   "metadata": {},
   "source": [
    "Eroded:"
   ]
  },
  {
   "cell_type": "code",
   "execution_count": null,
   "id": "53ee3dfb-99df-41b9-a634-67cea5f1c673",
   "metadata": {},
   "outputs": [],
   "source": [
    "tsne_eroded_shape_df = TSNE_maker(df=eroded_all, sub_analysis=['shape'])"
   ]
  },
  {
   "cell_type": "code",
   "execution_count": null,
   "id": "5b9833f1-46f0-4ed9-a8f7-4040483d6a33",
   "metadata": {},
   "outputs": [],
   "source": [
    "tsne_eroded_intensity_df = TSNE_maker(df=eroded_all, sub_analysis=['intensity'])"
   ]
  },
  {
   "cell_type": "code",
   "execution_count": null,
   "id": "ddfe517d-5060-4957-8ecb-9232a822d677",
   "metadata": {},
   "outputs": [],
   "source": [
    "tsne_eroded_texture_df = TSNE_maker(df=eroded_all, sub_analysis=['texture'])"
   ]
  },
  {
   "cell_type": "code",
   "execution_count": null,
   "id": "0ae46575-3ede-4a06-a572-7d7c65293152",
   "metadata": {},
   "outputs": [],
   "source": [
    "tsne_eroded_intensitytexture_df = TSNE_maker(df=eroded_all, sub_analysis=['intensity', 'texture'])"
   ]
  },
  {
   "cell_type": "markdown",
   "id": "2c8e8a16-98a6-4f07-bc6f-6b5e294d1e59",
   "metadata": {},
   "source": [
    "Validation:"
   ]
  },
  {
   "cell_type": "code",
   "execution_count": null,
   "id": "53059e62-8723-470e-93c5-51c3b0a0c610",
   "metadata": {},
   "outputs": [],
   "source": [
    "tsne_validation_shape_df = TSNE_maker(df=validation_all, sub_analysis=['shape'])"
   ]
  },
  {
   "cell_type": "code",
   "execution_count": null,
   "id": "ef9a345e-d373-497a-8415-5f3428754297",
   "metadata": {},
   "outputs": [],
   "source": [
    "tsne_validation_intensity_df = TSNE_maker(df=validation_all, sub_analysis=['intensity'])"
   ]
  },
  {
   "cell_type": "code",
   "execution_count": null,
   "id": "750e8ac8-573d-47e7-b3b4-551773cd574a",
   "metadata": {},
   "outputs": [],
   "source": [
    "tsne_validation_texture_df = TSNE_maker(df=validation_all, sub_analysis=['texture'])"
   ]
  },
  {
   "cell_type": "code",
   "execution_count": null,
   "id": "275cfd4d-c26b-4a7e-a7c8-4e298bc4f047",
   "metadata": {},
   "outputs": [],
   "source": [
    "tsne_validation_intensitytexture_df = TSNE_maker(df=validation_all, sub_analysis=['intensity', 'texture'])"
   ]
  },
  {
   "cell_type": "markdown",
   "id": "db55f700-d254-4bc1-922f-febb5a0f599d",
   "metadata": {},
   "source": [
    "## Save the t_SNE dataframes to CSV"
   ]
  },
  {
   "cell_type": "code",
   "execution_count": null,
   "id": "8f9db44e-8f6c-4ce5-8548-2107a2f3f6fc",
   "metadata": {},
   "outputs": [],
   "source": [
    "tsne_discovery_all_df.to_csv('LOCAL PATH')\n",
    "tsne_eroded_all_df.to_csv('LOCAL PATH')\n",
    "tsne_validation_all_df.to_csv('LOCAL PATH')"
   ]
  },
  {
   "cell_type": "code",
   "execution_count": null,
   "id": "ffd49551-562d-41eb-a6e6-aa3c6ed96ec7",
   "metadata": {},
   "outputs": [],
   "source": [
    "tsne_discovery_shape_df.to_csv('LOCAL PATH')\n",
    "tsne_discovery_intensity_df.to_csv('LOCAL PATH')\n",
    "tsne_discovery_texture_df.to_csv('LOCAL PATH')\n",
    "tsne_discovery_intensitytexture_df.to_csv('LOCAL PATH')"
   ]
  },
  {
   "cell_type": "code",
   "execution_count": null,
   "id": "531d95a4-b0f6-41b9-ab7f-430379fa8e9f",
   "metadata": {},
   "outputs": [],
   "source": [
    "tsne_eroded_shape_df.to_csv('LOCAL PATH')\n",
    "tsne_eroded_intensity_df.to_csv('LOCAL PATH')\n",
    "tsne_eroded_texture_df.to_csv('LOCAL PATH')\n",
    "tsne_eroded_intensitytexture_df.to_csv('LOCAL PATH')"
   ]
  },
  {
   "cell_type": "code",
   "execution_count": null,
   "id": "bae62849-e822-4bf2-a689-84513b875f98",
   "metadata": {},
   "outputs": [],
   "source": [
    "tsne_validation_shape_df.to_csv('Z:/active_Sajjad/11- Personal/CT tumor morphology/Processed Datasets/tsne_validation_shape.csv')\n",
    "tsne_validation_intensity_df.to_csv('Z:/active_Sajjad/11- Personal/CT tumor morphology/Processed Datasets/tsne_validation_intensity.csv')\n",
    "tsne_validation_texture_df.to_csv('Z:/active_Sajjad/11- Personal/CT tumor morphology/Processed Datasets/tsne_validation_texture.csv')\n",
    "tsne_validation_intensitytexture_df.to_csv('Z:/active_Sajjad/11- Personal/CT tumor morphology/Processed Datasets/tsne_validation_intensitytexture.csv')"
   ]
  }
 ],
 "metadata": {
  "kernelspec": {
   "display_name": "Python [conda env:base] *",
   "language": "python",
   "name": "conda-base-py"
  },
  "language_info": {
   "codemirror_mode": {
    "name": "ipython",
    "version": 3
   },
   "file_extension": ".py",
   "mimetype": "text/x-python",
   "name": "python",
   "nbconvert_exporter": "python",
   "pygments_lexer": "ipython3",
   "version": "3.12.7"
  }
 },
 "nbformat": 4,
 "nbformat_minor": 5
}
