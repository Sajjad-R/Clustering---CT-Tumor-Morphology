{
 "cells": [
  {
   "cell_type": "code",
   "execution_count": null,
   "id": "e0592235-bf24-47cd-a3db-3de55274c0a5",
   "metadata": {},
   "outputs": [],
   "source": [
    "import pandas as pd\n",
    "from sklearn.preprocessing import StandardScaler\n",
    "import SegmentationGuideline as SG"
   ]
  },
  {
   "cell_type": "code",
   "execution_count": null,
   "id": "3f001344-9593-410f-963c-b67fdeeeca98",
   "metadata": {},
   "outputs": [],
   "source": [
    "PATH_PANCANCER_RADIOMICS_CSV = \"LOCAL PATH\"\n",
    "PATH_ERODED_CSV = \"LOCAL PATH\"\n",
    "PATH_PANCANCER_STEPHAN_XLSX = \"LOCAL PATH\"\n",
    "PATH_PANCANCER_CLINICAL_XLSX = \"LOCAL PATH\"\n",
    "PATH_MEGASET_CSV = \"LOCAL PATH\""
   ]
  },
  {
   "cell_type": "markdown",
   "id": "17096557-a3bc-4b7a-8f54-e33b0c342ede",
   "metadata": {},
   "source": [
    "# Discovery datasets"
   ]
  },
  {
   "cell_type": "markdown",
   "id": "41f1bd34-de66-4655-8c54-075b959c57d4",
   "metadata": {},
   "source": [
    "## Load radiomic datasets"
   ]
  },
  {
   "cell_type": "code",
   "execution_count": null,
   "id": "3a01db7e-32f2-4ba0-b007-ae0c1a7fb06f",
   "metadata": {
    "scrolled": true
   },
   "outputs": [],
   "source": [
    "nki_radiomics_source = pd.read_csv(PATH_PANCANCER_RADIOMICS_CSV)\n",
    "nki_radiomics_source"
   ]
  },
  {
   "cell_type": "code",
   "execution_count": null,
   "id": "69968c7d-022d-43ad-9c1a-a743ca6b100c",
   "metadata": {},
   "outputs": [],
   "source": [
    "eroded_df = pd.read_csv(PATH_ERODED_CSV)\n",
    "eroded_df"
   ]
  },
  {
   "cell_type": "code",
   "execution_count": null,
   "id": "d0ba7a7d-5a42-4c01-9e77-4e00057a63a0",
   "metadata": {},
   "outputs": [],
   "source": [
    "new_naming_df = pd.read_excel(PATH_PANCANCER_STEPHAN_XLSX)\n",
    "new_naming_df"
   ]
  },
  {
   "cell_type": "markdown",
   "id": "6071d4a8-d7b6-4bef-9127-c3ec97c097ff",
   "metadata": {},
   "source": [
    "## Data harmonization across versions + Adaption to the new naming convention"
   ]
  },
  {
   "cell_type": "markdown",
   "id": "51a0b45f-efd3-4028-abaa-b3ca582aa4f9",
   "metadata": {},
   "source": [
    "### Index the datasets"
   ]
  },
  {
   "cell_type": "code",
   "execution_count": null,
   "id": "61313345-58be-43e6-83c1-aa57a29cd52d",
   "metadata": {},
   "outputs": [],
   "source": [
    "nki_radiomics_source.set_index(['Anon_Name', 'Scan_Name', 'Segment ID'], inplace=True)\n",
    "nki_radiomics_source"
   ]
  },
  {
   "cell_type": "code",
   "execution_count": null,
   "id": "456685b1-d504-4f30-868a-a3641b89d3e7",
   "metadata": {
    "scrolled": true
   },
   "outputs": [],
   "source": [
    "eroded_df.set_index(['Anon_Name', 'Scan_Name', 'Segment ID'], inplace=True)\n",
    "eroded_df"
   ]
  },
  {
   "cell_type": "code",
   "execution_count": null,
   "id": "356fcf58-4b71-4756-af59-3d41a0ca9be0",
   "metadata": {},
   "outputs": [],
   "source": [
    "new_naming_df.set_index(['Anon_Name', 'Scan_Name', 'Segment ID'], inplace=True)\n",
    "new_naming_df"
   ]
  },
  {
   "cell_type": "markdown",
   "id": "0c8596fc-6d8a-4b02-9990-3928d15ec9f1",
   "metadata": {},
   "source": [
    "### Drop the extra rows (missing lesions)"
   ]
  },
  {
   "cell_type": "code",
   "execution_count": null,
   "id": "89542fa8-04e1-4b32-99ef-0f27ddd3fb24",
   "metadata": {},
   "outputs": [],
   "source": [
    "missing_df = nki_radiomics_source.loc[~nki_radiomics_source.index.isin(new_naming_df.index) | ~nki_radiomics_source.index.isin(eroded_df.index)]\n",
    "missing_df"
   ]
  },
  {
   "cell_type": "code",
   "execution_count": null,
   "id": "6b403b2d-d228-4152-964a-36d01518cf23",
   "metadata": {},
   "outputs": [],
   "source": [
    "nki_radiomics_source.drop(missing_df.index, inplace=True)\n",
    "nki_radiomics_source"
   ]
  },
  {
   "cell_type": "code",
   "execution_count": null,
   "id": "90fe88b9-4c1e-4dc4-b327-2fcffcd23057",
   "metadata": {},
   "outputs": [],
   "source": [
    "eroded_df = eroded_df.loc[eroded_df.index.isin(nki_radiomics_source.index)]\n",
    "eroded_df"
   ]
  },
  {
   "cell_type": "markdown",
   "id": "369ef7a7-2ef7-4b63-bd6c-242bfe2aa744",
   "metadata": {},
   "source": [
    "### Update the segment names"
   ]
  },
  {
   "cell_type": "code",
   "execution_count": null,
   "id": "e9854547-af7c-43b4-ae9f-187d76fc09b5",
   "metadata": {},
   "outputs": [],
   "source": [
    "nki_radiomics_source[\"Segment Name\"].update(new_naming_df[\"Segment Name\"])\n",
    "nki_radiomics_source"
   ]
  },
  {
   "cell_type": "code",
   "execution_count": null,
   "id": "c6c5a88d-5143-4da6-af86-84fcdb057115",
   "metadata": {},
   "outputs": [],
   "source": [
    "eroded_df[\"Segment Name\"].update(new_naming_df[\"Segment Name\"])\n",
    "eroded_df"
   ]
  },
  {
   "cell_type": "markdown",
   "id": "da614368-f78d-42af-8234-2d9e8060826a",
   "metadata": {},
   "source": [
    "### Reset the dataset indexing"
   ]
  },
  {
   "cell_type": "code",
   "execution_count": null,
   "id": "100bbe00-be98-4a30-8027-854e803cd155",
   "metadata": {},
   "outputs": [],
   "source": [
    "nki_radiomics_source.reset_index(inplace=True)\n",
    "nki_radiomics_source"
   ]
  },
  {
   "cell_type": "code",
   "execution_count": null,
   "id": "e6d46144-fd2f-4d16-a344-234c39003627",
   "metadata": {},
   "outputs": [],
   "source": [
    "eroded_df.reset_index(inplace=True)\n",
    "eroded_df"
   ]
  },
  {
   "cell_type": "markdown",
   "id": "82cc084d-d85d-47bb-bdbd-82430c3fc4e8",
   "metadata": {},
   "source": [
    "## Load NKI clinical dataset"
   ]
  },
  {
   "cell_type": "markdown",
   "id": "4d4941a4-d4a6-46b6-a9a7-adda4e11d416",
   "metadata": {},
   "source": [
    "This is to get the tumor type data"
   ]
  },
  {
   "cell_type": "code",
   "execution_count": null,
   "id": "7b54c048-9ace-4f9e-a186-65f9bd5b32e0",
   "metadata": {},
   "outputs": [],
   "source": [
    "nki_clinical_source = pd.read_excel(PATH_PANCANCER_CLINICAL_XLSX)\n",
    "nki_clinical_source"
   ]
  },
  {
   "cell_type": "markdown",
   "id": "9863b956-a9ac-434d-a0c4-e2e31bd234b0",
   "metadata": {},
   "source": [
    "## Add tumor type to nki_radiomics_source and eroded_df"
   ]
  },
  {
   "cell_type": "code",
   "execution_count": null,
   "id": "8f3bb7a3-9e1f-4841-8457-53fb82c77037",
   "metadata": {},
   "outputs": [],
   "source": [
    "Anon_Name_to_tumtype = nki_clinical_source.drop_duplicates(subset=\"Anon_Name\").set_index(\"Anon_Name\")[\"tumtype\"]\n",
    "Anon_Name_to_tumtype"
   ]
  },
  {
   "cell_type": "code",
   "execution_count": null,
   "id": "cf2cba30-5f47-4e3a-9c7b-1db0ff106fcd",
   "metadata": {},
   "outputs": [],
   "source": [
    "nki_radiomics_source[\"tumtype\"] = nki_radiomics_source[\"Anon_Name\"].map(Anon_Name_to_tumtype)\n",
    "nki_radiomics_source"
   ]
  },
  {
   "cell_type": "code",
   "execution_count": null,
   "id": "f0ab54b0-9500-4903-94ff-ec6b2ad5b73f",
   "metadata": {},
   "outputs": [],
   "source": [
    "eroded_df[\"tumtype\"] = eroded_df[\"Anon_Name\"].map(Anon_Name_to_tumtype)\n",
    "eroded_df"
   ]
  },
  {
   "cell_type": "code",
   "execution_count": null,
   "id": "4680569f-c5c3-4e27-8112-2c87ca5f7f00",
   "metadata": {},
   "outputs": [],
   "source": [
    "nki_radiomics_source['tumtype'].isnull().sum()"
   ]
  },
  {
   "cell_type": "code",
   "execution_count": null,
   "id": "b3a89b35-3f39-4635-8724-b4cc6c620fc2",
   "metadata": {},
   "outputs": [],
   "source": [
    "eroded_df['tumtype'].isnull().sum()"
   ]
  },
  {
   "cell_type": "code",
   "execution_count": null,
   "id": "b1a40841-28f7-4eff-94b0-66bed7e924b1",
   "metadata": {},
   "outputs": [],
   "source": [
    "nki_radiomics_source = nki_radiomics_source.dropna(subset=['tumtype'])\n",
    "nki_radiomics_source"
   ]
  },
  {
   "cell_type": "code",
   "execution_count": null,
   "id": "17cad3ca-5911-48a0-993a-543bbf10d280",
   "metadata": {},
   "outputs": [],
   "source": [
    "eroded_df = eroded_df.dropna(subset=['tumtype'])\n",
    "eroded_df"
   ]
  },
  {
   "cell_type": "markdown",
   "id": "d1409a38-ebb7-4682-8a7b-0e13e1930879",
   "metadata": {},
   "source": [
    "## Drop irrelavant tumor type categories"
   ]
  },
  {
   "cell_type": "code",
   "execution_count": null,
   "id": "d0f7018f-6dee-44c4-9db6-e49d889ff133",
   "metadata": {},
   "outputs": [],
   "source": [
    "nki_radiomics_source[\"tumtype\"].unique()"
   ]
  },
  {
   "cell_type": "code",
   "execution_count": null,
   "id": "f6023515-7288-46ef-ba26-5dc5310317b1",
   "metadata": {},
   "outputs": [],
   "source": [
    "eroded_df[\"tumtype\"].unique()"
   ]
  },
  {
   "cell_type": "markdown",
   "id": "c74d9017-6d14-45cb-8102-3b1306eb7096",
   "metadata": {},
   "source": [
    "We drop the rows with 'other' and 'CUP' as tumor type"
   ]
  },
  {
   "cell_type": "code",
   "execution_count": null,
   "id": "e9f2eccc-fbfd-4688-aeef-b046a5544722",
   "metadata": {},
   "outputs": [],
   "source": [
    "irrelevant_tumtypes_df = nki_radiomics_source[(nki_radiomics_source[\"tumtype\"] == 'other ') | (nki_radiomics_source[\"tumtype\"] == 'CUP')]\n",
    "irrelevant_tumtypes_df"
   ]
  },
  {
   "cell_type": "code",
   "execution_count": null,
   "id": "af0bd6c8-ab03-46ee-bbc3-19b50abd291e",
   "metadata": {},
   "outputs": [],
   "source": [
    "nki_radiomics_source = nki_radiomics_source[(nki_radiomics_source[\"tumtype\"] != 'other ') & (nki_radiomics_source[\"tumtype\"] != 'CUP')]\n",
    "nki_radiomics_source"
   ]
  },
  {
   "cell_type": "code",
   "execution_count": null,
   "id": "118d803f-16e6-4b9e-b987-3061c264a2df",
   "metadata": {},
   "outputs": [],
   "source": [
    "eroded_df = eroded_df[(eroded_df[\"tumtype\"] != 'other ') & (eroded_df[\"tumtype\"] != 'CUP')]\n",
    "eroded_df"
   ]
  },
  {
   "cell_type": "code",
   "execution_count": null,
   "id": "5acb70bf-fb8e-43df-a3ec-b54d19939923",
   "metadata": {},
   "outputs": [],
   "source": [
    "nki_radiomics_source[\"tumtype\"].unique()"
   ]
  },
  {
   "cell_type": "code",
   "execution_count": null,
   "id": "475746a5-6442-44f0-9e3c-497e605fc842",
   "metadata": {},
   "outputs": [],
   "source": [
    "eroded_df[\"tumtype\"].unique()"
   ]
  },
  {
   "cell_type": "markdown",
   "id": "b04bc3d7-ce9e-4156-afcd-f27e64191371",
   "metadata": {},
   "source": [
    "## Screen the segment names for errors (deviating from the guideline)"
   ]
  },
  {
   "cell_type": "code",
   "execution_count": null,
   "id": "7c5e0d5f-1cbb-4d49-aa13-ae81de5a9c7a",
   "metadata": {},
   "outputs": [],
   "source": [
    "SG.naming_pattern()"
   ]
  },
  {
   "cell_type": "code",
   "execution_count": null,
   "id": "5c900699-7601-4951-ab9e-50ca641d00af",
   "metadata": {},
   "outputs": [],
   "source": [
    "nki_radiomics_source['matches_structure'] = nki_radiomics_source['Segment Name'].str.match(SG.naming_pattern())\n",
    "nki_radiomics_source"
   ]
  },
  {
   "cell_type": "code",
   "execution_count": null,
   "id": "43b4e340-72b5-4285-9362-51269a2134c1",
   "metadata": {},
   "outputs": [],
   "source": [
    "eroded_df['matches_structure'] = eroded_df['Segment Name'].str.match(SG.naming_pattern())\n",
    "eroded_df"
   ]
  },
  {
   "cell_type": "markdown",
   "id": "628d4de5-e214-46c7-badd-12840d71ad01",
   "metadata": {},
   "source": [
    "If correct, the output of the following 2 cells will be an empty dataframe"
   ]
  },
  {
   "cell_type": "code",
   "execution_count": null,
   "id": "e235d901-602a-4b58-91cd-2ae440818a1d",
   "metadata": {},
   "outputs": [],
   "source": [
    "non_matching_rows = nki_radiomics_source[~nki_radiomics_source['matches_structure']]\n",
    "non_matching_rows"
   ]
  },
  {
   "cell_type": "code",
   "execution_count": null,
   "id": "1b277be4-d774-4825-a3d1-212cfb744bf0",
   "metadata": {},
   "outputs": [],
   "source": [
    "non_matching_rows_eroded = eroded_df[~eroded_df['matches_structure']]\n",
    "non_matching_rows_eroded"
   ]
  },
  {
   "cell_type": "markdown",
   "id": "d8e5e5ac-053a-43f2-aa27-2819de70a7b6",
   "metadata": {},
   "source": [
    "## Add segment name interpretation columns"
   ]
  },
  {
   "cell_type": "code",
   "execution_count": null,
   "id": "04fceddf-e831-4c55-b800-130387dc2e79",
   "metadata": {},
   "outputs": [],
   "source": [
    "def append_loc_details(df):\n",
    "\n",
    "    \"\"\"Receives one DataFrame and adds 4 columns to it, characterizing the lesions based on Segment Names\"\"\"\n",
    "    \n",
    "    df['Segment Parsed'] = df['Segment Name'].apply(SG.interpret_segment)\n",
    "\n",
    "    df['prim_met_status'] = df['Segment Parsed'].apply(lambda x: x.get('prim_met_status') if isinstance(x, dict) else None)\n",
    "    df['lesion_type'] = df['Segment Parsed'].apply(lambda x: x.get('lesion_type') if isinstance(x, dict) else None)\n",
    "    df['location'] = df['Segment Parsed'].apply(lambda x: x.get('location') if isinstance(x, dict) else None)\n",
    "    df['lesion_num'] = df['Segment Parsed'].apply(lambda x: x.get('lesion_num') if isinstance(x, dict) else None)\n",
    "\n",
    "    df.drop(columns=['Segment Parsed'], inplace=True)"
   ]
  },
  {
   "cell_type": "code",
   "execution_count": null,
   "id": "c184492f-4baf-4a59-a31a-c2836cd5c690",
   "metadata": {},
   "outputs": [],
   "source": [
    "append_loc_details(nki_radiomics_source)\n",
    "nki_radiomics_source"
   ]
  },
  {
   "cell_type": "code",
   "execution_count": null,
   "id": "ae694403-46f2-4984-b7d1-d79738586de2",
   "metadata": {},
   "outputs": [],
   "source": [
    "append_loc_details(eroded_df)\n",
    "eroded_df"
   ]
  },
  {
   "cell_type": "markdown",
   "id": "06c2c2c2-ee94-4f6e-bfd8-24cbc47803ce",
   "metadata": {},
   "source": [
    "If correct, the output of the following 2 cells have to be False"
   ]
  },
  {
   "cell_type": "code",
   "execution_count": null,
   "id": "574fefe8-6b1b-4a8a-b57e-9d05f8ed509a",
   "metadata": {},
   "outputs": [],
   "source": [
    "nki_radiomics_source[['prim_met_status', 'lesion_type', 'location', 'lesion_num']].isnull().any().any()"
   ]
  },
  {
   "cell_type": "code",
   "execution_count": null,
   "id": "2d00a428-7855-4a6e-b193-24b76213d6e5",
   "metadata": {},
   "outputs": [],
   "source": [
    "eroded_df[['prim_met_status', 'lesion_type', 'location', 'lesion_num']].isnull().any().any()"
   ]
  },
  {
   "cell_type": "markdown",
   "id": "625631f0-f776-4b26-a354-e2a2b96ba0c5",
   "metadata": {},
   "source": [
    "# Validation dataset"
   ]
  },
  {
   "cell_type": "markdown",
   "id": "dac4603f-c114-4052-9b8c-4203e3718561",
   "metadata": {},
   "source": [
    "## Load the dataset and drop the missing values in tumor type column"
   ]
  },
  {
   "cell_type": "code",
   "execution_count": null,
   "id": "812be89c-3609-4c92-8b68-0305889979fa",
   "metadata": {},
   "outputs": [],
   "source": [
    "validation_source = pd.read_csv(PATH_MEGASET_CSV)\n",
    "validation_source"
   ]
  },
  {
   "cell_type": "code",
   "execution_count": null,
   "id": "c7317026-9696-4eb7-9549-0e5739e7c380",
   "metadata": {},
   "outputs": [],
   "source": [
    "validation_source['tumtype'].isnull().sum()"
   ]
  },
  {
   "cell_type": "code",
   "execution_count": null,
   "id": "c28d96af-3613-4aad-812d-28a373013c81",
   "metadata": {},
   "outputs": [],
   "source": [
    "validation_source = validation_source.dropna(subset=['tumtype'])\n",
    "validation_source"
   ]
  },
  {
   "cell_type": "markdown",
   "id": "d4cf143a-fedc-4866-b77c-bbcfdefa8f6d",
   "metadata": {},
   "source": [
    "## Screen the segment names for errors (deviating from the guideline)"
   ]
  },
  {
   "cell_type": "code",
   "execution_count": null,
   "id": "b9fc4fad-30c6-4d49-81c8-730404499cc6",
   "metadata": {},
   "outputs": [],
   "source": [
    "validation_source['matches_structure'] = validation_source['Segment Name'].str.match(SG.naming_pattern())\n",
    "validation_source"
   ]
  },
  {
   "cell_type": "code",
   "execution_count": null,
   "id": "2f2f25fd-5f6a-4733-aff7-9eaf9f65d8f3",
   "metadata": {},
   "outputs": [],
   "source": [
    "non_matching_rows_v = validation_source[~validation_source['matches_structure']]\n",
    "non_matching_rows_v"
   ]
  },
  {
   "cell_type": "code",
   "execution_count": null,
   "id": "266c108b-8e7c-4705-a4ca-332ef0f31156",
   "metadata": {},
   "outputs": [],
   "source": [
    "validation_source = validation_source[validation_source['matches_structure']]\n",
    "validation_source"
   ]
  },
  {
   "cell_type": "markdown",
   "id": "6cbcfaa8-0328-4f86-b795-505d61a38a97",
   "metadata": {},
   "source": [
    "## Add segment name interpretation columns"
   ]
  },
  {
   "cell_type": "code",
   "execution_count": null,
   "id": "0b6cc234-00eb-466d-977d-cb6518c0d46b",
   "metadata": {},
   "outputs": [],
   "source": [
    "append_loc_details(validation_source)\n",
    "validation_source"
   ]
  },
  {
   "cell_type": "code",
   "execution_count": null,
   "id": "467e08a4-5219-4c56-827d-26ab555f6475",
   "metadata": {},
   "outputs": [],
   "source": [
    "validation_source['location'].isnull().sum()"
   ]
  },
  {
   "cell_type": "code",
   "execution_count": null,
   "id": "3d90ba24-21eb-4b3a-8e69-83da704c2987",
   "metadata": {},
   "outputs": [],
   "source": [
    "seg_error_V = validation_source[validation_source['location'].isnull()]\n",
    "seg_error_V"
   ]
  },
  {
   "cell_type": "code",
   "execution_count": null,
   "id": "92f01aa8-1f56-499b-9358-2dc0019217b7",
   "metadata": {},
   "outputs": [],
   "source": [
    "validation_source = validation_source[~validation_source.index.isin(seg_error_V.index)]\n",
    "validation_source"
   ]
  },
  {
   "cell_type": "markdown",
   "id": "1a00e310-8133-4456-8f2d-d0e51e48fd71",
   "metadata": {},
   "source": [
    "If correct, the output of the following cell has to be False"
   ]
  },
  {
   "cell_type": "code",
   "execution_count": null,
   "id": "aa50550e-2c32-45f9-84c8-36a598e146f8",
   "metadata": {},
   "outputs": [],
   "source": [
    "validation_source[['prim_met_status', 'lesion_type', 'location', 'lesion_num']].isnull().any().any()"
   ]
  },
  {
   "cell_type": "markdown",
   "id": "8ccf87b0-cc9c-4b18-8cc9-03c9e8c61666",
   "metadata": {},
   "source": [
    "# Get overall Study participants' characteristics data"
   ]
  },
  {
   "cell_type": "code",
   "execution_count": null,
   "id": "680c307d-23ee-4cb1-89ff-cf9d57a89785",
   "metadata": {},
   "outputs": [],
   "source": [
    "nki_study_size = nki_radiomics_source[\"Anon_Name\"].nunique()\n",
    "nki_study_size"
   ]
  },
  {
   "cell_type": "code",
   "execution_count": null,
   "id": "efc7fba3-f93e-45c2-bff3-31e10946ce5f",
   "metadata": {},
   "outputs": [],
   "source": [
    "validation_study_size = validation_source[\"Case\"].nunique()\n",
    "validation_study_size"
   ]
  },
  {
   "cell_type": "code",
   "execution_count": null,
   "id": "5868588e-28c3-4b14-859b-5b75fd93b1fb",
   "metadata": {},
   "outputs": [],
   "source": [
    "validation_num_datasets = validation_source[\"Project\"].nunique()\n",
    "validation_num_datasets"
   ]
  },
  {
   "cell_type": "code",
   "execution_count": null,
   "id": "0bdadb6d-67ee-4bbb-9031-2d63f5b6d8cc",
   "metadata": {},
   "outputs": [],
   "source": [
    "validation_source[\"Project\"].unique()"
   ]
  },
  {
   "cell_type": "code",
   "execution_count": null,
   "id": "0bcf052b-24d7-4b31-8287-eecc11b4a3a6",
   "metadata": {},
   "outputs": [],
   "source": [
    "nki_total_num_lesion = len(nki_radiomics_source)\n",
    "nki_total_num_lesion"
   ]
  },
  {
   "cell_type": "code",
   "execution_count": null,
   "id": "72a66a01-61b3-45da-8832-788f529bb8fd",
   "metadata": {},
   "outputs": [],
   "source": [
    "validation_total_num_lesion = len(validation_source)\n",
    "validation_total_num_lesion"
   ]
  },
  {
   "cell_type": "code",
   "execution_count": null,
   "id": "ef18d7e2-d4de-474b-ba39-1a386aa6e927",
   "metadata": {},
   "outputs": [],
   "source": [
    "nki_radiomics_source[\"tumtype\"].nunique()"
   ]
  },
  {
   "cell_type": "code",
   "execution_count": null,
   "id": "9f68e205-39b9-4851-b93f-a65bbd66878b",
   "metadata": {},
   "outputs": [],
   "source": [
    "nki_radiomics_source[\"tumtype\"].unique()"
   ]
  },
  {
   "cell_type": "code",
   "execution_count": null,
   "id": "42b0dc44-fee7-47de-8322-cef8e6a3f8ab",
   "metadata": {},
   "outputs": [],
   "source": [
    "validation_source[\"tumtype\"].nunique()"
   ]
  },
  {
   "cell_type": "code",
   "execution_count": null,
   "id": "e77445ac-19e3-4e7a-8c12-f9d037ffeb83",
   "metadata": {},
   "outputs": [],
   "source": [
    "validation_source[\"tumtype\"].unique()"
   ]
  },
  {
   "cell_type": "markdown",
   "id": "9064de50-ce62-4750-9458-bb18d1fdb341",
   "metadata": {},
   "source": [
    "# Manage missing feature values + Standardize feature values"
   ]
  },
  {
   "cell_type": "code",
   "execution_count": null,
   "id": "edb45b89-7a3b-4c4c-a084-d895d73072a1",
   "metadata": {},
   "outputs": [],
   "source": [
    "def radiomics_standardizer(df):\n",
    "    \n",
    "    \"\"\"Receives one DataFrame, fills the missing values in radiomic feature columns with the median of that column, \n",
    "    and standardize the radiomic feature values\"\"\"\n",
    "    \n",
    "    feature_start = df.columns.get_loc('original_shape_Elongation')\n",
    "    feature_end = df.columns.get_loc('lbp-3D-k_ngtdm_Strength')+1\n",
    "    \n",
    "    features_df = df.iloc[:, feature_start:feature_end]\n",
    "\n",
    "    features_df = features_df.apply(lambda col: col.fillna(col.median()), axis=0)\n",
    "    \n",
    "    scaler = StandardScaler()\n",
    "    standardized_values = scaler.fit_transform(features_df)\n",
    "\n",
    "    features_standardized_df = pd.DataFrame(standardized_values, columns=features_df.columns)\n",
    "\n",
    "    non_feature_columns = df.drop(columns=features_df.columns)\n",
    "    \n",
    "    final_df = pd.concat([non_feature_columns.reset_index(drop=True), features_standardized_df.reset_index(drop=True)], axis=1)\n",
    "\n",
    "    return final_df"
   ]
  },
  {
   "cell_type": "code",
   "execution_count": null,
   "id": "bcff78f4-4f5b-4cb0-b63d-b80fd20e0936",
   "metadata": {},
   "outputs": [],
   "source": [
    "nki_radiomics_source"
   ]
  },
  {
   "cell_type": "code",
   "execution_count": null,
   "id": "e779e595-be87-482f-8809-30c0b18cd232",
   "metadata": {},
   "outputs": [],
   "source": [
    "nki_radiomics_source_st = radiomics_standardizer(nki_radiomics_source)\n",
    "nki_radiomics_source_st"
   ]
  },
  {
   "cell_type": "code",
   "execution_count": null,
   "id": "1ab41866-6ace-4714-9c8a-4a2d6d5ccd48",
   "metadata": {},
   "outputs": [],
   "source": [
    "eroded_df"
   ]
  },
  {
   "cell_type": "code",
   "execution_count": null,
   "id": "17da1f76-9239-4c03-b350-c817b1e0131a",
   "metadata": {},
   "outputs": [],
   "source": [
    "eroded_df_st = radiomics_standardizer(eroded_df)\n",
    "eroded_df_st"
   ]
  },
  {
   "cell_type": "code",
   "execution_count": null,
   "id": "4951d7a5-a878-41fe-90b7-034449ce1037",
   "metadata": {},
   "outputs": [],
   "source": [
    "validation_source"
   ]
  },
  {
   "cell_type": "code",
   "execution_count": null,
   "id": "edb4dcf1-52a1-4bba-b735-e52aac4e1ec9",
   "metadata": {},
   "outputs": [],
   "source": [
    "validation_source_st = radiomics_standardizer(validation_source)\n",
    "validation_source_st"
   ]
  },
  {
   "cell_type": "markdown",
   "id": "55d2b652-e758-4777-b249-84de75b500a5",
   "metadata": {},
   "source": [
    "To Confirm there is no missing feature value the output of the three cells checking _st datasets has to be False"
   ]
  },
  {
   "cell_type": "code",
   "execution_count": null,
   "id": "1d896391-24ef-4343-824f-e16b68f582ef",
   "metadata": {},
   "outputs": [],
   "source": [
    "feature_start = nki_radiomics_source.columns.get_loc('original_shape_Elongation')\n",
    "feature_end = nki_radiomics_source.columns.get_loc('lbp-3D-k_ngtdm_Strength')+1\n",
    "\n",
    "nki_radiomics_source.iloc[:, feature_start:feature_end].isnull().any().any()"
   ]
  },
  {
   "cell_type": "code",
   "execution_count": null,
   "id": "e2e03d91-60b8-4e1c-83d3-f1951a65262e",
   "metadata": {},
   "outputs": [],
   "source": [
    "feature_start = nki_radiomics_source_st.columns.get_loc('original_shape_Elongation')\n",
    "feature_end = nki_radiomics_source_st.columns.get_loc('lbp-3D-k_ngtdm_Strength')+1\n",
    "\n",
    "nki_radiomics_source_st.iloc[:, feature_start:feature_end].isnull().any().any()"
   ]
  },
  {
   "cell_type": "code",
   "execution_count": null,
   "id": "bf415804-d22a-43fb-a1ec-7066fc82a6c5",
   "metadata": {},
   "outputs": [],
   "source": [
    "feature_start = validation_source.columns.get_loc('original_shape_Elongation')\n",
    "feature_end = validation_source.columns.get_loc('lbp-3D-k_ngtdm_Strength')+1\n",
    "\n",
    "validation_source.iloc[:, feature_start:feature_end].isnull().any().any()"
   ]
  },
  {
   "cell_type": "code",
   "execution_count": null,
   "id": "1d8ab344-3eea-47e1-ab01-7433a9a860b9",
   "metadata": {},
   "outputs": [],
   "source": [
    "feature_start = validation_source_st.columns.get_loc('original_shape_Elongation')\n",
    "feature_end = validation_source_st.columns.get_loc('lbp-3D-k_ngtdm_Strength')+1\n",
    "\n",
    "validation_source_st.iloc[:, feature_start:feature_end].isnull().any().any()"
   ]
  },
  {
   "cell_type": "code",
   "execution_count": null,
   "id": "5081dc5f-5153-4b6f-8baa-cd239b6784c5",
   "metadata": {},
   "outputs": [],
   "source": [
    "feature_start = eroded_df.columns.get_loc('original_shape_Elongation')\n",
    "feature_end = eroded_df.columns.get_loc('lbp-3D-k_ngtdm_Strength')+1\n",
    "\n",
    "eroded_df.iloc[:, feature_start:feature_end].isnull().any().any()"
   ]
  },
  {
   "cell_type": "code",
   "execution_count": null,
   "id": "ff664002-d6b1-4eca-aeaf-222b51bd785d",
   "metadata": {},
   "outputs": [],
   "source": [
    "feature_start = eroded_df_st.columns.get_loc('original_shape_Elongation')\n",
    "feature_end = eroded_df_st.columns.get_loc('lbp-3D-k_ngtdm_Strength')+1\n",
    "\n",
    "eroded_df_st.iloc[:, feature_start:feature_end].isnull().any().any()"
   ]
  },
  {
   "cell_type": "markdown",
   "id": "84bf35af-0f84-48c3-9f08-f077f8cca107",
   "metadata": {},
   "source": [
    "# Export the datasets to csv"
   ]
  },
  {
   "cell_type": "code",
   "execution_count": null,
   "id": "161f56ed-8526-4594-8175-227db90f0641",
   "metadata": {},
   "outputs": [],
   "source": [
    "nki_radiomics_source_st.to_csv('Z:/active_Sajjad/11- Personal/CT tumor morphology/Processed Datasets/discovery_all_st.csv')\n",
    "eroded_df_st.to_csv('Z:/active_Sajjad/11- Personal/CT tumor morphology/Processed Datasets/eroded_discovery_all_st.csv')\n",
    "validation_source_st.to_csv('Z:/active_Sajjad/11- Personal/CT tumor morphology/Processed Datasets/validation_all_st.csv')"
   ]
  }
 ],
 "metadata": {
  "kernelspec": {
   "display_name": "Python [conda env:base] *",
   "language": "python",
   "name": "conda-base-py"
  },
  "language_info": {
   "codemirror_mode": {
    "name": "ipython",
    "version": 3
   },
   "file_extension": ".py",
   "mimetype": "text/x-python",
   "name": "python",
   "nbconvert_exporter": "python",
   "pygments_lexer": "ipython3",
   "version": "3.12.7"
  }
 },
 "nbformat": 4,
 "nbformat_minor": 5
}
