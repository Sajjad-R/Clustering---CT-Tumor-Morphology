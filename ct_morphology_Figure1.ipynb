{
 "cells": [
  {
   "cell_type": "code",
   "execution_count": 1,
   "id": "2f071c74-a145-470b-87ca-bcc061402438",
   "metadata": {},
   "outputs": [],
   "source": [
    "import pandas as pd\n",
    "import matplotlib.pyplot as plt"
   ]
  },
  {
   "cell_type": "code",
   "execution_count": 2,
   "id": "62f39551-2e1f-4127-995d-631af588a31c",
   "metadata": {
    "jupyter": {
     "source_hidden": true
    }
   },
   "outputs": [],
   "source": [
    "# PLOT Settings\n",
    "\n",
    "fixed_category_colors = {\n",
    "    \"Bone\": \"#0072B2\", #blue\n",
    "    \"Lung\": \"#66A61E\", #green\n",
    "    \"Hepatobiliary\": \"#E69F00\", #Orange\n",
    "    \"Lymph Node\": \"#F0E442\", #yellow\n",
    "    \"Peritoneum\": \"#A6761D\", #brown\n",
    "    \"Gastrointestinal\": \"#CC79A7\", #reddish purple\n",
    "    \"Subcutaneous Fat\": \"#009E73\", #bluish green\n",
    "    \"Adrenal\": \"#E6AB02\", #gold\n",
    "    \"Others\": \"#000000\", #black\n",
    "    \"Gynecological\": \"#D55E00\", #vermillion\n",
    "    \"Urinary System\": \"#1E90FF\", #dodger blue\n",
    "    \"Brain\": \"#56B4E9\", #sky blue\n",
    "    \"Head and Neck\": \"#8B4513\", #saddle brown\n",
    "    \"Breast\": \"#E7298A\", #pink\n",
    "\n",
    "    \"Pancreatobiliary\": \"#8A2BE2\", # blue violet\n",
    "    \n",
    "    \n",
    "    \"Melanoma\": \"#E69F00\", #Orange\n",
    "    \"Testicular\": \"#F0E442\", #yellow\n",
    "    \"Sarcoma\": \"#E6AB02\", #gold\n",
    "    \"CRC\": \"#0072B2\", #blue\n",
    "    \"Ovary\": \"#009E73\", #bluish green\n",
    "    \"Gastroesophageal\": \"#CC79A7\", #reddish purple\n",
    "    \"Urothelial\": \"#DC143C\", # crimson\n",
    "    \"Pancreas\": \"#1E90FF\", #dodger blue\n",
    "    \"Thymus\": \"#B3B3CC\", #Light Gray\n",
    "    \"Biliary\": \"#FF6347\", #tomato\n",
    "    \"Renal\": \"#32CD32\", #lime green\n",
    "    \"Pleura\": \"#C71585\", #medium violet red\n",
    "    \"Small Intestine\": \"#56B4E9\", #sky blue\n",
    "    \"Prostate\": \"#9400D3\", # dark violet\n",
    "    \"Appendix\": \"#00CED1\", # dark turquoise\n",
    "    \"Thyroid\": \"#FF8C00\", #dark orange\n",
    "}\n",
    "\n",
    "dot_size = 0.5\n",
    "\n",
    "alpha = 0.7\n",
    "\n",
    "edge_color = 'k'\n",
    "\n",
    "x_title = 't-SNE One'\n",
    "\n",
    "y_title = 't-SNE Two'"
   ]
  },
  {
   "cell_type": "markdown",
   "id": "2e40e0dd-6b9e-4554-ad9f-13f1a767e2d9",
   "metadata": {},
   "source": [
    "## Figure 1"
   ]
  },
  {
   "cell_type": "code",
   "execution_count": null,
   "id": "876e2b22-a886-4d55-99e9-f5fd086b9b4e",
   "metadata": {
    "jupyter": {
     "source_hidden": true
    }
   },
   "outputs": [],
   "source": [
    "# Load the data:\n",
    "\n",
    "tsne_discovery_all = pd.read_csv(r'LOCAL PATH')"
   ]
  },
  {
   "cell_type": "markdown",
   "id": "2e0fff4b-ba75-4cab-835a-39e233e3cc7c",
   "metadata": {},
   "source": [
    "[Horizontal]"
   ]
  },
  {
   "cell_type": "code",
   "execution_count": null,
   "id": "d83fc558-0432-4737-a04a-2beba5592e6f",
   "metadata": {
    "collapsed": true,
    "jupyter": {
     "outputs_hidden": true,
     "source_hidden": true
    },
    "scrolled": true
   },
   "outputs": [],
   "source": [
    "fig_one, axs_one = plt.subplots(nrows=1, ncols=3, figsize=(18, 5), sharex=True, sharey=True)\n",
    "\n",
    "# Scatter Plot 2\n",
    "axs_one[1].scatter(tsne_discovery_all['tsne 1'], tsne_discovery_all['tsne 2'], c=\"black\", alpha=alpha, s=dot_size)\n",
    "axs_one[1].set_title('Unlabeled')\n",
    "axs_one[1].set_xlabel(x_title)\n",
    "axs_one[1].text(-0.05, 1.05, 'B.', transform=axs_one[1].transAxes, \n",
    "                fontsize=11, fontweight='bold', va='top', ha='right')\n",
    "\n",
    "# Scatter Plot 1\n",
    "unique_categories = list(tsne_discovery_all['tumtype'].unique())\n",
    "for category in unique_categories:\n",
    "    indicesToKeep = tsne_discovery_all['tumtype'] == category\n",
    "    axs_one[0].scatter(tsne_discovery_all.loc[indicesToKeep, 'tsne 1'],\n",
    "               tsne_discovery_all.loc[indicesToKeep, 'tsne 2'],\n",
    "               c=fixed_category_colors[category],\n",
    "               s=dot_size,\n",
    "               label=category)\n",
    "axs_one[0].set_title('Tumor Type')\n",
    "axs_one[0].set_xlabel(x_title)\n",
    "axs_one[0].set_ylabel(y_title)\n",
    "axs_one[0].legend(loc='center right', bbox_to_anchor=(-0.2, 0.5))\n",
    "axs_one[0].text(-0.05, 1.05, 'A.', transform=axs_one[0].transAxes, \n",
    "                fontsize=11, fontweight='bold', va='top', ha='right')\n",
    "\n",
    "# Scatter Plot 3\n",
    "unique_categories = list(tsne_discovery_all['environment'].unique())\n",
    "for category in unique_categories:\n",
    "    indicesToKeep = tsne_discovery_all['environment'] == category\n",
    "    axs_one[2].scatter(tsne_discovery_all.loc[indicesToKeep, 'tsne 1'],\n",
    "               tsne_discovery_all.loc[indicesToKeep, 'tsne 2'],\n",
    "               c=fixed_category_colors[category],\n",
    "               s=dot_size,\n",
    "               label=category)\n",
    "axs_one[2].set_title('Tumor Environment')\n",
    "axs_one[2].set_xlabel(x_title)\n",
    "axs_one[2].legend(loc='center left', bbox_to_anchor=(1, 0.5))\n",
    "axs_one[2].text(-0.05, 1.05, 'C.', transform=axs_one[2].transAxes, \n",
    "                fontsize=11, fontweight='bold', va='top', ha='right')\n",
    "\n",
    "\n",
    "plt.savefig(r'LOCAL PATH', dpi=600, bbox_inches='tight')\n",
    "plt.show()"
   ]
  },
  {
   "cell_type": "markdown",
   "id": "22d43fd9-cb8f-4957-97f1-5aceb046ee44",
   "metadata": {},
   "source": [
    "[Vertical]"
   ]
  },
  {
   "cell_type": "code",
   "execution_count": null,
   "id": "aa09d910-ed72-4aa3-a41a-9501ee284cf9",
   "metadata": {
    "collapsed": true,
    "jupyter": {
     "outputs_hidden": true,
     "source_hidden": true
    }
   },
   "outputs": [],
   "source": [
    "fig_one, axs_one = plt.subplots(nrows=3, ncols=1, figsize=(6, 18), sharex=True, sharey=True)\n",
    "\n",
    "# Scatter Plot 1\n",
    "axs_one[0].scatter(tsne_discovery_all['tsne 1'], tsne_discovery_all['tsne 2'], c='black', alpha=alpha, s=dot_size)\n",
    "axs_one[0].set_title('Unlabeled')\n",
    "axs_one[0].set_ylabel(y_title)\n",
    "axs_one[0].text(-0.1, 1.05, 'A', transform=axs_one[0].transAxes, \n",
    "                fontsize=11, fontweight='bold', va='top', ha='right')\n",
    "\n",
    "# Scatter Plot 2\n",
    "unique_categories = list(tsne_discovery_all['tumtype'].unique())\n",
    "for category in unique_categories:\n",
    "    indicesToKeep = tsne_discovery_all['tumtype'] == category\n",
    "    axs_one[1].scatter(tsne_discovery_all.loc[indicesToKeep, 'tsne 1'],\n",
    "               tsne_discovery_all.loc[indicesToKeep, 'tsne 2'],\n",
    "               c=fixed_category_colors[category],\n",
    "               s=dot_size,\n",
    "               label=category)\n",
    "axs_one[1].set_title('Tumor Type')\n",
    "axs_one[1].set_ylabel(y_title)\n",
    "axs_one[1].legend(loc='center right', bbox_to_anchor=(-0.2, 0.5), markerscale=3)\n",
    "axs_one[1].text(-0.1, 1.05, 'B', transform=axs_one[1].transAxes, \n",
    "                fontsize=11, fontweight='bold', va='top', ha='right')\n",
    "\n",
    "# Scatter Plot 3\n",
    "unique_categories = list(tsne_discovery_all['environment'].unique())\n",
    "for category in unique_categories:\n",
    "    indicesToKeep = tsne_discovery_all['environment'] == category\n",
    "    axs_one[2].scatter(tsne_discovery_all.loc[indicesToKeep, 'tsne 1'],\n",
    "               tsne_discovery_all.loc[indicesToKeep, 'tsne 2'],\n",
    "               c=fixed_category_colors[category],\n",
    "               s=dot_size,\n",
    "               label=category)\n",
    "axs_one[2].set_title('Tumor Environment')\n",
    "axs_one[2].set_xlabel(x_title)\n",
    "axs_one[2].set_ylabel(y_title)\n",
    "axs_one[2].legend(loc='center right', bbox_to_anchor=(-0.2, 0.5), markerscale=3)\n",
    "axs_one[2].text(-0.1, 1.05, 'C', transform=axs_one[2].transAxes, \n",
    "                fontsize=11, fontweight='bold', va='top', ha='right')\n",
    "\n",
    "\n",
    "plt.savefig(r'LOCAL PATH', dpi=600, bbox_inches='tight')\n",
    "plt.show()"
   ]
  }
 ],
 "metadata": {
  "kernelspec": {
   "display_name": "Python 3 (ipykernel)",
   "language": "python",
   "name": "python3"
  },
  "language_info": {
   "codemirror_mode": {
    "name": "ipython",
    "version": 3
   },
   "file_extension": ".py",
   "mimetype": "text/x-python",
   "name": "python",
   "nbconvert_exporter": "python",
   "pygments_lexer": "ipython3",
   "version": "3.12.7"
  }
 },
 "nbformat": 4,
 "nbformat_minor": 5
}
